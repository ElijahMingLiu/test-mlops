{
 "cells": [
  {
   "cell_type": "code",
   "execution_count": null,
   "id": "1fbf025c",
   "metadata": {},
   "outputs": [],
   "source": [
    "import boto3\n",
    "import sagemaker\n",
    "from sagemaker import get_execution_role\n",
    "import json\n",
    "import tarfile\n",
    "import os"
   ]
  },
  {
   "cell_type": "code",
   "execution_count": null,
   "id": "52d0077c",
   "metadata": {},
   "outputs": [],
   "source": [
    "def train_my_xgboost(train, code_files, script, hyperparameters={}, role=None, prefix=None, bucket=None, train_instance_type='ml.m5.xlarge'):\n",
    "    \n",
    "    # 创建tar.gz文件\n",
    "    def create_tar_file(source_files, target=None):\n",
    "        if target:\n",
    "            filename = target\n",
    "        else:\n",
    "            _, filename = tempfile.mkstemp()\n",
    "\n",
    "        with tarfile.open(filename, mode=\"w:gz\") as t:\n",
    "            for sf in source_files:\n",
    "                # Add all files from the directory into the root of the directory structure of the tar\n",
    "                t.add(sf, arcname=os.path.basename(sf))\n",
    "        return filename\n",
    "    # 超参数encode成json\n",
    "    def json_encode_hyperparameters(hyperparameters):\n",
    "        return {str(k): json.dumps(v) for (k, v) in hyperparameters.items()}\n",
    "    \n",
    "    \n",
    "    sagemaker_session = sagemaker.session.Session()\n",
    "    \n",
    "    # 取得默认的bucket\n",
    "    if not bucket:\n",
    "        print('Using default bucket ', end='')\n",
    "        bucket = sagemaker_session.default_bucket()\n",
    "        print(bucket)\n",
    "    \n",
    "    if not code_files[0].startswith('s3://'):\n",
    "        print('Uploading code to S3:', end='')\n",
    "        # 把代码文件打爆\n",
    "        create_tar_file(code_files, \"sourcedir.tar.gz\")\n",
    "        # 上传代码文件\n",
    "        sources = sagemaker_session.upload_data(\"sourcedir.tar.gz\", bucket, prefix + \"/code\")\n",
    "        print(sources)\n",
    "    else:\n",
    "        sources = code_files\n",
    "    \n",
    "    # 把代码的s3位置放进超参数\n",
    "    hyperparameters['sagemaker_submit_directory']= sources\n",
    "    \n",
    "    # encode超参数\n",
    "    hyperparameters = json_encode_hyperparameters(\n",
    "        hyperparameters\n",
    "    )\n",
    "    \n",
    "    if not role:\n",
    "        print('Getting default Role', end='')\n",
    "        role = get_execution_role()\n",
    "        print(role)\n",
    "    \n",
    "    # 放入如下内容\n",
    "    # docker ecr链接\n",
    "    # role\n",
    "    # 同时训练的数量\n",
    "    # 机器类型\n",
    "    # training jobs 前缀\n",
    "    # 超参数\n",
    "    est = sagemaker.estimator.Estimator(\n",
    "        '337058716437.dkr.ecr.ca-central-1.amazonaws.com/xgboost_001',\n",
    "        role,\n",
    "        train_instance_count=1,\n",
    "        train_instance_type=train_instance_type,\n",
    "        # train_instance_type=\"local\",\n",
    "        base_job_name=prefix,\n",
    "        hyperparameters=hyperparameters,\n",
    "    )\n",
    "    \n",
    "    # 这个可以做映射的文件，假如有666，那么文件会被挂载到/opt/ml/input/data/666/\n",
    "    est.fit({\"train\": train})"
   ]
  },
  {
   "cell_type": "code",
   "execution_count": 2,
   "id": "928d2960",
   "metadata": {},
   "outputs": [
    {
     "ename": "NameError",
     "evalue": "name 'train_my_xgboost' is not defined",
     "output_type": "error",
     "traceback": [
      "\u001b[0;31m---------------------------------------------------------------------------\u001b[0m",
      "\u001b[0;31mNameError\u001b[0m                                 Traceback (most recent call last)",
      "\u001b[0;32m<ipython-input-2-a779f777f939>\u001b[0m in \u001b[0;36m<module>\u001b[0;34m\u001b[0m\n\u001b[1;32m     15\u001b[0m                      \u001b[0;34m\"hp3\"\u001b[0m\u001b[0;34m:\u001b[0m \u001b[0;36m0.001\u001b[0m\u001b[0;34m,\u001b[0m\u001b[0;34m\u001b[0m\u001b[0;34m\u001b[0m\u001b[0m\n\u001b[1;32m     16\u001b[0m                    }\n\u001b[0;32m---> 17\u001b[0;31m train_my_xgboost(train, code_files, script, hyperparameters=hyperparameters,\n\u001b[0m\u001b[1;32m     18\u001b[0m                  \u001b[0mrole\u001b[0m\u001b[0;34m=\u001b[0m\u001b[0mrole\u001b[0m\u001b[0;34m,\u001b[0m\u001b[0;34m\u001b[0m\u001b[0;34m\u001b[0m\u001b[0m\n\u001b[1;32m     19\u001b[0m                  \u001b[0mprefix\u001b[0m\u001b[0;34m=\u001b[0m\u001b[0mprefix\u001b[0m\u001b[0;34m\u001b[0m\u001b[0;34m\u001b[0m\u001b[0m\n",
      "\u001b[0;31mNameError\u001b[0m: name 'train_my_xgboost' is not defined"
     ]
    }
   ],
   "source": [
    "train = 's3://sagemaker-ca-central-1-337058716437/script-mode-container-2/train/'\n",
    "script = 'train.py'\n",
    "\n",
    "role = 'arn:aws:iam::337058716437:role/SageMaker-Execution'\n",
    "code_files = [\"code/source_dir/train.py\"]\n",
    "script = 'train.py'\n",
    "prefix = 'test-mlops'\n",
    "\n",
    "hyperparameters = {\n",
    "                     \"sagemaker_program\": \"train.py\",\n",
    "                     \"hp1\": {'xgboost':'123',\n",
    "                             'test':'ttt'\n",
    "                            },\n",
    "                     \"hp2\": 300,\n",
    "                     \"hp3\": 0.001,\n",
    "                   }\n",
    "train_my_xgboost(train, code_files, script, hyperparameters=hyperparameters,\n",
    "                 role=role,\n",
    "                 prefix=prefix\n",
    "                )"
   ]
  },
  {
   "cell_type": "code",
   "execution_count": null,
   "id": "9878b969",
   "metadata": {},
   "outputs": [],
   "source": []
  },
  {
   "cell_type": "code",
   "execution_count": null,
   "id": "649db716",
   "metadata": {},
   "outputs": [],
   "source": []
  },
  {
   "cell_type": "code",
   "execution_count": null,
   "id": "43523b60",
   "metadata": {},
   "outputs": [],
   "source": []
  },
  {
   "cell_type": "code",
   "execution_count": null,
   "id": "1c44c7bf",
   "metadata": {},
   "outputs": [],
   "source": [
    "import sagemaker"
   ]
  },
  {
   "cell_type": "code",
   "execution_count": null,
   "id": "65857ddb",
   "metadata": {},
   "outputs": [],
   "source": []
  },
  {
   "cell_type": "code",
   "execution_count": null,
   "id": "9e7a752b",
   "metadata": {},
   "outputs": [],
   "source": []
  },
  {
   "cell_type": "code",
   "execution_count": 3,
   "id": "05d7e978",
   "metadata": {},
   "outputs": [],
   "source": [
    "train = 's3://sagemaker-ca-central-1-337058716437/script-mode-container-2/train/'\n",
    "script = 'train.py'\n",
    "\n",
    "role = 'arn:aws:iam::337058716437:role/SageMaker-Execution'\n",
    "code_files = [\"code/source_dir/train.py\"]\n",
    "script = 'train.py'\n",
    "prefix = 'test-mlops'\n",
    "\n",
    "hyperparameters = {\n",
    "                     \"sagemaker_program\": \"train.py\",\n",
    "                     \"hp1\": {'xgboost':'123',\n",
    "                             'test':'ttt'\n",
    "                            },\n",
    "                     \"hp2\": 300,\n",
    "                     \"hp3\": 0.001,\n",
    "                   }"
   ]
  },
  {
   "cell_type": "code",
   "execution_count": 4,
   "id": "f665b8b5",
   "metadata": {},
   "outputs": [],
   "source": [
    "\n",
    "# 创建tar.gz文件\n",
    "def create_tar_file(source_files, target=None):\n",
    "    if target:\n",
    "        filename = target\n",
    "    else:\n",
    "        _, filename = tempfile.mkstemp()\n",
    "\n",
    "    with tarfile.open(filename, mode=\"w:gz\") as t:\n",
    "        for sf in source_files:\n",
    "            # Add all files from the directory into the root of the directory structure of the tar\n",
    "            t.add(sf, arcname=os.path.basename(sf))\n",
    "    return filename\n",
    "# 超参数encode成json\n",
    "def json_encode_hyperparameters(hyperparameters):\n",
    "    return {str(k): json.dumps(v) for (k, v) in hyperparameters.items()}\n",
    "\n",
    "\n",
    "sagemaker_session = sagemaker.session.Session()\n",
    "\n"
   ]
  },
  {
   "cell_type": "code",
   "execution_count": 5,
   "id": "bfb3659e",
   "metadata": {},
   "outputs": [
    {
     "name": "stdout",
     "output_type": "stream",
     "text": [
      "Using default bucket sagemaker-ca-central-1-337058716437\n",
      "Uploading code to S3:s3://sagemaker-ca-central-1-337058716437/test-mlops/code/sourcedir.tar.gz\n"
     ]
    }
   ],
   "source": [
    "# 取得默认的bucket\n",
    "print('Using default bucket ', end='')\n",
    "bucket = sagemaker_session.default_bucket()\n",
    "print(bucket)\n",
    "\n",
    "if not code_files[0].startswith('s3://'):\n",
    "    print('Uploading code to S3:', end='')\n",
    "    # 把代码文件打爆\n",
    "    create_tar_file(code_files, \"sourcedir.tar.gz\")\n",
    "    # 上传代码文件\n",
    "    sources = sagemaker_session.upload_data(\"sourcedir.tar.gz\", bucket, prefix + \"/code\")\n",
    "    print(sources)\n",
    "else:\n",
    "    sources = code_files"
   ]
  },
  {
   "cell_type": "code",
   "execution_count": 6,
   "id": "567313e8",
   "metadata": {},
   "outputs": [],
   "source": [
    "\n",
    "# 把代码的s3位置放进超参数\n",
    "hyperparameters['sagemaker_submit_directory']= sources\n",
    "\n",
    "# encode超参数\n",
    "hyperparameters = json_encode_hyperparameters(\n",
    "    hyperparameters\n",
    ")\n"
   ]
  },
  {
   "cell_type": "code",
   "execution_count": 10,
   "id": "6be7d851",
   "metadata": {},
   "outputs": [
    {
     "data": {
      "text/plain": [
       "'arn:aws:iam::337058716437:role/SageMaker-Execution'"
      ]
     },
     "execution_count": 10,
     "metadata": {},
     "output_type": "execute_result"
    }
   ],
   "source": [
    "role"
   ]
  },
  {
   "cell_type": "code",
   "execution_count": 14,
   "id": "39997f93",
   "metadata": {},
   "outputs": [
    {
     "name": "stderr",
     "output_type": "stream",
     "text": [
      "train_instance_count has been renamed in sagemaker>=2.\n",
      "See: https://sagemaker.readthedocs.io/en/stable/v2.html for details.\n",
      "train_instance_type has been renamed in sagemaker>=2.\n",
      "See: https://sagemaker.readthedocs.io/en/stable/v2.html for details.\n"
     ]
    }
   ],
   "source": [
    "\n",
    "\n",
    "if not role:\n",
    "    print('Getting default Role', end='')\n",
    "    role = get_execution_role()\n",
    "    print(role)\n",
    "\n",
    "# 放入如下内容\n",
    "# docker ecr链接\n",
    "# role\n",
    "# 同时训练的数量\n",
    "# 机器类型\n",
    "# training jobs 前缀\n",
    "# 超参数\n",
    "est = sagemaker.estimator.Estimator(\n",
    "    '337058716437.dkr.ecr.ca-central-1.amazonaws.com/xgboost_001:latest',\n",
    "    role,\n",
    "    train_instance_count=1,\n",
    "    train_instance_type='ml.m5.xlarge',\n",
    "    # train_instance_type=\"local\",\n",
    "    base_job_name=prefix,\n",
    "    hyperparameters=hyperparameters,\n",
    ")"
   ]
  },
  {
   "cell_type": "code",
   "execution_count": null,
   "id": "563d0ab9",
   "metadata": {},
   "outputs": [
    {
     "name": "stdout",
     "output_type": "stream",
     "text": [
      "2021-08-11 14:15:38 Starting - Starting the training job...\n",
      "2021-08-11 14:15:40 Starting - Launching requested ML instancesProfilerReport-1628691338: InProgress\n",
      "...\n",
      "2021-08-11 14:16:28 Starting - Preparing the instances for training......\n",
      "2021-08-11 14:17:29 Downloading - Downloading input data\n",
      "2021-08-11 14:17:29 Training - Downloading the training image..."
     ]
    }
   ],
   "source": [
    "# 这个可以做映射的文件，假如有666，那么文件会被挂载到/opt/ml/input/data/666/\n",
    "est.fit({\"train\": train})"
   ]
  },
  {
   "cell_type": "code",
   "execution_count": null,
   "id": "79273ad0",
   "metadata": {},
   "outputs": [],
   "source": []
  },
  {
   "cell_type": "code",
   "execution_count": null,
   "id": "69416100",
   "metadata": {},
   "outputs": [],
   "source": [
    "\n",
    "\n",
    "# 这个可以做映射的文件，假如有666，那么文件会被挂载到/opt/ml/input/data/666/\n",
    "est.fit({\"train\": train})"
   ]
  },
  {
   "cell_type": "code",
   "execution_count": null,
   "id": "77c36053",
   "metadata": {},
   "outputs": [],
   "source": []
  },
  {
   "cell_type": "code",
   "execution_count": null,
   "id": "db8f82f1",
   "metadata": {},
   "outputs": [],
   "source": []
  },
  {
   "cell_type": "code",
   "execution_count": null,
   "id": "4a661d82",
   "metadata": {},
   "outputs": [],
   "source": []
  },
  {
   "cell_type": "code",
   "execution_count": 9,
   "id": "2c5cef40",
   "metadata": {},
   "outputs": [
    {
     "data": {
      "text/plain": [
       "<sagemaker.session.Session at 0x7fbf2f8af5f8>"
      ]
     },
     "execution_count": 9,
     "metadata": {},
     "output_type": "execute_result"
    }
   ],
   "source": [
    "sagemaker_session.upload_data"
   ]
  }
 ],
 "metadata": {
  "kernelspec": {
   "display_name": "conda_python3",
   "language": "python",
   "name": "conda_python3"
  },
  "language_info": {
   "codemirror_mode": {
    "name": "ipython",
    "version": 3
   },
   "file_extension": ".py",
   "mimetype": "text/x-python",
   "name": "python",
   "nbconvert_exporter": "python",
   "pygments_lexer": "ipython3",
   "version": "3.6.13"
  }
 },
 "nbformat": 4,
 "nbformat_minor": 5
}
