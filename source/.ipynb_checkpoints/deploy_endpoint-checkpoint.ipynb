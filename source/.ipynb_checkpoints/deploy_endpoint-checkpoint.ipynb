{
 "cells": [
  {
   "cell_type": "markdown",
   "metadata": {},
   "source": [
    "## 简介\n",
    "\n",
    "在构建用于运行Endpoint的docker镜像，并将其推送到ECR之后，即可启动Endpoint节点，下面notebook为启动Multi Model Endpoint节点的代码。\n",
    "\n",
    "Multi Model Endpoint支持一个 Endpoint 调用多个模型。\n",
    "\n",
    "在启动Endpoint前，需要设置的包括3个参数：\n",
    "\n",
    "- endpoint_name : Endpoint的名字\n",
    "- model_url : 模型的s3路径\n",
    "- container : Docker镜像在ECR的地址\n",
    "- role : Endpoint运行时的Role\n",
    "\n",
    "需要注意：\n",
    "1. endpoint_name 不可以与已有的Endpoint名字重复\n",
    "2. endpoint_name 不可以使用下划线`_`命名，但可以使用`-`\n",
    "3. model_url必须以`/`为结尾\n",
    "4. 模型必须以 模型名.tar.gz 的格式存储在 model_url 对应的 s3 中\n",
    "5. role需要拥有 SageMaker Full Access 以及 S3 Full Access 权限"
   ]
  },
  {
   "cell_type": "code",
   "execution_count": null,
   "metadata": {},
   "outputs": [],
   "source": [
    "#endpoint名字\n",
    "endpoint_name = 'your-endpoint-name'\n",
    "#模型列表，注意最后结尾带上 /\n",
    "model_url = 'https://s3-cn-northwest-1.amazonaws.com/sagemaker-cn-northwest-1-468855463735/output1/testx00001-2020-10-14-07-59-46-191/output/'\n",
    "container = '468855463735.dkr.ecr.cn-northwest-1.amazonaws.com.cn/end1014'\n",
    "role = 'arn:aws-cn:iam::468855463735:role/SageMaker_Executor_for_Endpoints'"
   ]
  },
  {
   "cell_type": "markdown",
   "metadata": {},
   "source": [
    "导入所需的 Python 库，并创建sagemaker.client及sagemaker-runtime对象"
   ]
  },
  {
   "cell_type": "code",
   "execution_count": null,
   "metadata": {},
   "outputs": [],
   "source": [
    "# !pip install -qU awscli boto3 sagemaker\n",
    "import boto3\n",
    "from sagemaker import get_execution_role\n",
    "import os\n",
    "import tarfile\n",
    "\n",
    "sm_client = boto3.client(service_name='sagemaker')\n",
    "runtime_sm_client = boto3.client(service_name='sagemaker-runtime')"
   ]
  },
  {
   "cell_type": "markdown",
   "metadata": {},
   "source": [
    "配置Endpoint的Docker配置，并设置模式`'Mode' : 'MultiModel'`，来表明Endpoint为Multi Model模式。"
   ]
  },
  {
   "cell_type": "code",
   "execution_count": null,
   "metadata": {},
   "outputs": [],
   "source": [
    "container = {\n",
    "    'Image': container,\n",
    "    'ModelDataUrl': model_url,\n",
    "    'Mode': 'MultiModel'\n",
    "}\n",
    "\n",
    "model_name = endpoint_name\n",
    "\n",
    "create_model_response = sm_client.create_model(\n",
    "    ModelName = model_name,\n",
    "    ExecutionRoleArn = role,\n",
    "    Containers = [container])"
   ]
  },
  {
   "cell_type": "markdown",
   "metadata": {},
   "source": [
    "配置Endpoint实例，包括机型及 Auto Scaling等等"
   ]
  },
  {
   "cell_type": "code",
   "execution_count": null,
   "metadata": {},
   "outputs": [],
   "source": [
    "endpoint_config_name = model_name\n",
    "print('Endpoint config name: ' + endpoint_config_name)\n",
    "\n",
    "create_endpoint_config_response = sm_client.create_endpoint_config(\n",
    "    EndpointConfigName = endpoint_config_name,\n",
    "    ProductionVariants=[{\n",
    "        'InstanceType': 'ml.m5.large',\n",
    "        'InitialInstanceCount': 2,\n",
    "        'InitialVariantWeight': 1,\n",
    "        'ModelName': model_name,\n",
    "        'VariantName': 'AllTraffic'}])"
   ]
  },
  {
   "cell_type": "markdown",
   "metadata": {},
   "source": [
    "构建endpoint"
   ]
  },
  {
   "cell_type": "code",
   "execution_count": null,
   "metadata": {},
   "outputs": [],
   "source": [
    "print('Endpoint name: ' + endpoint_name)\n",
    "\n",
    "create_endpoint_response = sm_client.create_endpoint(\n",
    "    EndpointName=endpoint_name,\n",
    "    EndpointConfigName=endpoint_config_name)\n",
    "print('Endpoint Arn: ' + create_endpoint_response['EndpointArn'])\n",
    "\n",
    "resp = sm_client.describe_endpoint(EndpointName=endpoint_name)\n",
    "status = resp['EndpointStatus']\n",
    "print(\"Endpoint Status: \" + status)\n",
    "\n",
    "print('Waiting for {} endpoint to be in service...'.format(endpoint_name))\n",
    "waiter = sm_client.get_waiter('endpoint_in_service')\n",
    "waiter.wait(EndpointName=endpoint_name)"
   ]
  }
 ],
 "metadata": {
  "kernelspec": {
   "display_name": "conda_python3",
   "language": "python",
   "name": "conda_python3"
  },
  "language_info": {
   "codemirror_mode": {
    "name": "ipython",
    "version": 3
   },
   "file_extension": ".py",
   "mimetype": "text/x-python",
   "name": "python",
   "nbconvert_exporter": "python",
   "pygments_lexer": "ipython3",
   "version": "3.6.10"
  }
 },
 "nbformat": 4,
 "nbformat_minor": 4
}
